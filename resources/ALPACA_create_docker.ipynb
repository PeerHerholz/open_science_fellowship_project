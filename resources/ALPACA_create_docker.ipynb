{
 "cells": [
  {
   "cell_type": "markdown",
   "metadata": {},
   "source": [
    "# &nbsp;&nbsp;&nbsp; Automatic Locazation and Parcellation of Auditory Cortex Areas (ALPACA)  \n",
    "&nbsp;&nbsp;&nbsp;&nbsp;&nbsp;&nbsp;&nbsp;&nbsp;&nbsp;&nbsp;&nbsp;&nbsp;&nbsp;&nbsp;&nbsp;&nbsp;&nbsp;&nbsp;&nbsp;&nbsp;&nbsp;&nbsp;&nbsp;&nbsp;&nbsp;&nbsp;&nbsp;&nbsp;&nbsp;&nbsp;&nbsp;&nbsp;&nbsp;&nbsp;&nbsp;&nbsp;&nbsp;&nbsp;&nbsp;&nbsp;&nbsp;&nbsp;&nbsp;&nbsp;&nbsp;&nbsp;&nbsp;&nbsp;&nbsp;&nbsp;&nbsp;&nbsp;&nbsp;&nbsp;&nbsp;&nbsp;&nbsp;&nbsp;&nbsp;&nbsp;&nbsp;&nbsp;&nbsp;&nbsp;&nbsp;&nbsp;&nbsp;&nbsp;&nbsp;&nbsp;&nbsp;<img src=\"img/ALPACA_logo.png\" alt=\"alpaca logo\" width=\"370\" height=\"250\" border=\"10\">\n",
    "## &nbsp;&nbsp;&nbsp;&nbsp;&nbsp;&nbsp;&nbsp;&nbsp;&nbsp;&nbsp;&nbsp;&nbsp;&nbsp;&nbsp;&nbsp;&nbsp;&nbsp;&nbsp;&nbsp;&nbsp;&nbsp;&nbsp;&nbsp;&nbsp;&nbsp;&nbsp;&nbsp;&nbsp;&nbsp;&nbsp;&nbsp;&nbsp;&nbsp;&nbsp;&nbsp;&nbsp;&nbsp;&nbsp;&nbsp;&nbsp;&nbsp;create the ALPACA docker container"
   ]
  },
  {
   "cell_type": "markdown",
   "metadata": {},
   "source": [
    "### This notebook will show you how to create the ALPACA docker container used to apply the toolbox, including short explanations of the respective packages and software. Furthermore, it'll also give a brief introduction into docker itself, as well as the process of generating, building and managing docker containers. "
   ]
  },
  {
   "cell_type": "markdown",
   "metadata": {},
   "source": [
    "### docker - reproducibility in a container"
   ]
  },
  {
   "cell_type": "markdown",
   "metadata": {},
   "source": [
    "*This section is taken from the [ALPACA - data organization and prerequisites notebook](https://github.com/PeerHerholz/open_science_fellowship_project/blob/master/resources/ALPACA_data_organization_prerequisites.ipynb).*"
   ]
  },
  {
   "cell_type": "markdown",
   "metadata": {},
   "source": [
    "<img src=\"img/logoDocker.png\" alt=\"Drawing\" style=\"width: 400px;\"/>"
   ]
  },
  {
   "cell_type": "markdown",
   "metadata": {},
   "source": [
    "[Docker](https://www.docker.com/) is an open-source project that automates the deployment of applications inside software containers. Those containers wrap up a piece of software in a complete filesystem that contains everything it needs to run: code, system tools, software libraries, such as [Python](https://www.python.org), neuroimaging related software such as [FSL](https://fsl.fmrib.ox.ac.uk/fsl/fslwiki/FSL), [AFNI](https://afni.nimh.nih.gov), [SPM](http://www.fil.ion.ucl.ac.uk/spm/), [FreeSurfer](https://surfer.nmr.mgh.harvard.edu), [ANTs](http://stnava.github.io/ANTs/) and pretty much any other open source software or tools. This guarantees that it will always run the same, regardless of the environment it is running in. As this notebook will just briefly talk about docker and it's application, make sure you go through this very nice and comprehensive [introduction to docker](http://nipy.org/workshops/2017-03-boston/lectures/lesson-container/#1).\n",
    "\n",
    "Wondering why we're actually talking about this (I mean besides the already mentioned advantages)? Well, as ALPACA is commited and interested in open and reproducible (neuro-)science, the toolbox itself will be in a docker container one day and everything we focus on here will highly depend on / make us of docker. Additionally, and I can't stress this enough, it's incredibly useful. Now, let's check some basic docker commands:"
   ]
  },
  {
   "cell_type": "markdown",
   "metadata": {},
   "source": [
    "##### Install docker\n",
    "Before you can do anything, you first need to install [docker](https://www.docker.com/) on your system. \n",
    "The installation process differes per system. Luckily, the docker homepage has nice instructions for...\n",
    "\n",
    "- [Ubuntu](https://docs.docker.com/engine/installation/linux/docker-ce/ubuntu/) or [Debian](https://docs.docker.com/engine/installation/linux/docker-ce/debian/)\n",
    "- [Windows 7/8/9/10](https://docs.docker.com/toolbox/toolbox_install_windows/) or [Windows 10Pro](https://docs.docker.com/docker-for-windows/install/)\n",
    "- [OS X (from El Capitan 10.11 on)](https://docs.docker.com/docker-for-mac/install/) or [OS X (before El Capitan 10.11)](https://docs.docker.com/toolbox/toolbox_install_mac/)\n",
    "\n",
    "Once Docker is installed, open up a terminal and test it works properly with the command:"
   ]
  },
  {
   "cell_type": "code",
   "execution_count": null,
   "metadata": {
    "collapsed": true
   },
   "outputs": [],
   "source": [
    "docker run hello-world"
   ]
  },
  {
   "cell_type": "markdown",
   "metadata": {},
   "source": [
    "**Note**: Linux users might need to use `sudo` to run `docker` commands or follow [post-installation steps](https://docs.docker.com/engine/installation/linux/linux-postinstall/).\n",
    "\n",
    "##### Pulling and checking available docker images\n",
    "You can download various docker images from [docker hub](https://hub.docker.com), which always works like this:  \n",
    "\n",
    "`docker pull docker_id/docker_image:version` , e.g. `docker pull peerherholz/ALPACA:latest`\n",
    "\n",
    "**Note**: you don't have to include `:version` if you're not looking for a specific version. When not including it, `:latest` is set by default. \n",
    "\n",
    "Once it's done or whenever you want, you can check available images on your system:"
   ]
  },
  {
   "cell_type": "code",
   "execution_count": null,
   "metadata": {
    "collapsed": true
   },
   "outputs": [],
   "source": [
    "docker images"
   ]
  },
  {
   "cell_type": "markdown",
   "metadata": {},
   "source": [
    "##### How to run docker images\n",
    "After installing docker on your system, making sure that the hello-world example was running and pulling one or the other docker image you would like to use, you are good to go and actually run a docker image. The exact implementation of that is a bit different for Windows user, but the general commands look similar. The standard version goes something like this:\n",
    "\n",
    "`docker run -it --rm -p 8888:8888 docker_id/docker_image command`\n",
    "\n",
    "However, if you want use stuff (notebooks, code, scripts, etc.) which are not included in the respective docker image, but should run within it's environment, access process or save local or remote data, you can also mount your  directories, e.g.:\n",
    "\n",
    "`docker run -it --rm -v /path/to/resources/:/home/resources -v /path/to/data/:/home/data -v /path/to/output/:/home/output -p 8888:8888 docker_id/docker_image command`\n",
    "\n",
    "\n",
    "But what do those flags mean?\n",
    "\n",
    "- the `-it` flag tells docker that it should open an interactive container instance\n",
    "- the `--rm` flag tells docker that the container should automatically be removed after we close docker\n",
    "- the `-p` flag specifies which port we want to make available for docker\n",
    "- the `-v` flag tells docker which folders should be mount to make them accesible inside the container. Here:   /path/to/resources is your local directory where you stored notebooks, functions, scripts. /path/to/data/ is a directory where you stored your data, and /path/to/output can be an empty directory that will be used for output. - The second part of the `-v` flag (here: /home/resources, /data or /output) specifies under which path the mounted folders can be found inside the container. Important: To use the resource, data, output or any other folder, you first need to create them on your local system!\n",
    "- `docker_id/docker_image` tells docker which image you want to run\n",
    "- `command` tells docker, that you want to directly run a certain command within the container"
   ]
  },
  {
   "cell_type": "markdown",
   "metadata": {},
   "source": [
    "##### Docker tips and tricks\n",
    "###### Access docker container with bash\n",
    "You can access a docker container directly with bash or ipython by adding it to the end of your command, i.e.:\n",
    "\n",
    "`docker run -it --rm -v /path/to/resources/:/home/resources -v /path/to/data/:/home/data -v /path/to/output/:/home/output -p 8888:8888 docker_id/docker_image bash`\n",
    "\n",
    "`docker run -it --rm -v /path/to/resources/:/home/resources -v /path/to/data/:/home/data -v /path/to/output/:/home/output -p 8888:8888 docker_id/docker_image ipython`\n",
    "\n",
    "\n",
    "This also works with other software commands, such as bet etc.\n",
    "\n",
    "###### Stop Docker Container\n",
    "To stop a running docker container, either close the docker running  terminal or select the terminal and press the `Ctrl-C` shortcut multiple times."
   ]
  },
  {
   "cell_type": "markdown",
   "metadata": {},
   "source": [
    "###### List all installed docker images\n",
    "To see a list of all installed docker images use:\n"
   ]
  },
  {
   "cell_type": "markdown",
   "metadata": {},
   "source": [
    "docker images"
   ]
  },
  {
   "cell_type": "markdown",
   "metadata": {},
   "source": [
    "###### Delete a specific docker image\n",
    "To delete a specific docker image, first use the `docker images` command to list all installed containers and than use the `IMAGE ID` and the `rmi` instruction to delete the container:"
   ]
  },
  {
   "cell_type": "code",
   "execution_count": null,
   "metadata": {
    "collapsed": true
   },
   "outputs": [],
   "source": [
    "docker rmi -f IMAGE ID"
   ]
  },
  {
   "cell_type": "markdown",
   "metadata": {},
   "source": [
    "###### Export and import a docker image\n",
    "If you don't want to depend on a internet connection, you can also export an already downloaded docker image and than later on import it on another PC. To do so, use the following two commands:\n",
    "\n",
    "- export docker image docker_id/docker_image\n",
    "\n",
    "`docker save -o docker_image.tar docker_id/docker_image`\n",
    "\n",
    "- import docker image on another PC\n",
    "\n",
    "`docker load --input docker_image.tar`\n",
    "\n",
    "It might be possible that you run into administrator privileges isssues because you ran your docker command with `sudo`. This means that other users don't have access rights to `docker_image.tar`. To avoid this, just change the rights of `docker_image.tar` with the command:\n",
    "\n",
    "`sudo chmod 777 docker_image.tar`\n",
    "\n",
    "For more information check the [already mentioned introduction](http://nipy.org/workshops/2017-03-boston/lectures/lesson-container/#1) or Michael Notter's [introduction to docker notebook](https://miykael.github.io/nipype_tutorial/notebooks/introduction_docker.html). \n",
    "\n",
    "After learning a little bit about docker, let's actually create and build a container."
   ]
  },
  {
   "cell_type": "markdown",
   "metadata": {},
   "source": [
    "### building docker containers - there and back again"
   ]
  },
  {
   "cell_type": "markdown",
   "metadata": {},
   "source": [
    "You might think: do I really need to know this and why is it important anyway? Well, besides a bunch of points, here are two very obvious and major points: reproducibility and sharing/standardization. Focusing the first, the [introduction section](#docker---reproducibility-in-a-container) already briefly mentioned that through the possibility of wrapping up entire systems/setups, docker is a great tool with regard to reproducibility. More precisely, you can provide the exact same setup you used for a certain analysis or even study together with the respective so that others (fellow researchers, reviewers, your friends and family, etc.) can reproduce your results or apply your work to new data with ease. Along many positive effects this also boosts your integrity, big time. Focusing the latter, docker also helps you collaborating with peeps and to establish standards, increasing your impact tremendously. If you've developed a great and robust pipeline, why not share it with others so that they can benefit from it as well? Maybe you'll also be able to support the further standardization of neuroinformatics related applications (in terms of state of the art and best practise, of course), like e.g. [BIDS apps](http://bids-apps.neuroimaging.io) do. After all we're all in this together and for (neuro-)science, not for our egos."
   ]
  },
  {
   "cell_type": "markdown",
   "metadata": {},
   "source": [
    "##### dockerception"
   ]
  },
  {
   "cell_type": "markdown",
   "metadata": {},
   "source": [
    "There are actually a lot of amazing resources on how to create, build and ship docker containers. From the [documentation on the docker website](https://docs.docker.com/engine/reference/commandline/create/) and [guides](https://deis.com/blog/2015/creating-sharing-first-docker-image/) to even [youtube videos](https://www.youtube.com/watch?v=K6WER0oI-qs). This already seems quite comprehensive and helpful, eh? But wait for it: the neuroscience community is actually lucky enough that there's a docker image that creates docker images for neuroscience related applications, so basically, dockerception! It's called [neurodocker](https://www.youtube.com/watch?v=K6WER0oI-qs) and is nothing but off the charts. As it makes the creation of docker images for reproducible neuroscience reproducible and because it's super straightforward, ALPACA also uses [neurodocker](ttps://www.youtube.com/watch?v=K6WER0oI-qs). \n",
    "\n",
    "As usally, at first you need to pull the image:"
   ]
  },
  {
   "cell_type": "code",
   "execution_count": null,
   "metadata": {
    "collapsed": true
   },
   "outputs": [],
   "source": [
    "sudo docker pull kaczmarj/neurodocker"
   ]
  },
  {
   "cell_type": "markdown",
   "metadata": {},
   "source": [
    "neurodocker supports a vast variety of neuroinformatics related applications and software. For a comprehensive overview make sure to check the [respective sections on it's github page](https://github.com/kaczmarj/neurodocker#supported-software). The basic functionality is as with any other docker image: you need to run it with certain options / specifications.\n",
    "\n",
    "The run command itself should already look familiar to you:\n",
    "`sudo docker run --rm kaczmarj/neurodocker`\n",
    "\n",
    "What follows aren't mounts of data paths or functions, but all the applications, packages and software you want to include in your docker image. Furthermore, also settings with regard to the container's architecture, where the docker file should be saved, etc. For the ALPACA toolbox this looks like this:  "
   ]
  },
  {
   "cell_type": "code",
   "execution_count": null,
   "metadata": {
    "collapsed": true
   },
   "outputs": [],
   "source": [
    "docker run --rm kaczmarj/neurodocker:master generate \\\n",
    "--base debian:stretch --pkg-manager apt \\\n",
    "--afni version=latest \\\n",
    "--ants version=2.2.0 \\\n",
    "--c3d version=1.0.0 \\\n",
    "--freesurfer version=6.0.0 min=true \\\n",
    "--fsl version=5.0.10 \\\n",
    "--user alpaca \\\n",
    "--miniconda env_name=alpaca \\\n",
    "            conda_opts=\"--channel vida-nyu\" \\\n",
    "            conda_install=\"python=2.7 numpy pandas traits jupyter jupyterlab pandas matplotlib scikit-image scikit-learn seaborn altair traitsui apptools configobj reprozip reprounzip vtk jupyter_contrib_nbextensions\" \\\n",
    "            pip_install=\"nipype mne mayavi nilearn datalad ipywidgets pythreejs nibabel pymvpa2 PySurfer pybids\" \\\n",
    "            activate=true \\\n",
    "--miniconda env_name=alpaca \\\n",
    "            pip_install=\"pylsl\" \\\n",
    "--user root \\\n",
    "--mrtrix3 \\\n",
    "--neurodebian os_codename=\"stretch\" \\\n",
    "              download_server=\"usa-nh\" \\\n",
    "              pkgs=\"git-annex-standalone\" \\\n",
    "--install git vim swig\\\n",
    "--user alpaca \\\n",
    "--workdir /home/alpaca \\\n",
    "--no-check-urls > /Users/peerherholz/google_drive/ALPACA/docker_files/generated-full.Dockerfile"
   ]
  }
 ],
 "metadata": {
  "kernelspec": {
   "display_name": "Bash",
   "language": "bash",
   "name": "bash"
  },
  "language_info": {
   "codemirror_mode": "shell",
   "file_extension": ".sh",
   "mimetype": "text/x-sh",
   "name": "bash"
  }
 },
 "nbformat": 4,
 "nbformat_minor": 2
}
